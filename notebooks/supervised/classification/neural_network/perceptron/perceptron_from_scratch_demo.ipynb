{
 "cells": [
  {
   "cell_type": "code",
   "execution_count": 8,
   "id": "3b427eb2-8a91-45ff-b4c3-8c762349e4e7",
   "metadata": {},
   "outputs": [],
   "source": [
    "import numpy as np\n",
    "import pandas as pd\n",
    "\n",
    "from perceptron_from_scratch import Perceptron"
   ]
  },
  {
   "cell_type": "code",
   "execution_count": 9,
   "id": "f3618f4a-19bb-4507-8085-8d69030054ef",
   "metadata": {},
   "outputs": [
    {
     "name": "stdout",
     "output_type": "stream",
     "text": [
      "   x1  x2  y\n",
      "0   0   0  0\n",
      "1   0   1  0\n",
      "2   1   0  0\n",
      "3   1   1  1\n"
     ]
    }
   ],
   "source": [
    "df = pd.read_csv(\"../../../../../data/classification/and_gate_datasets.csv\")\n",
    "print(df)"
   ]
  },
  {
   "cell_type": "code",
   "execution_count": 10,
   "id": "7b66909e-1627-45e5-a790-34dbf035c5d6",
   "metadata": {},
   "outputs": [
    {
     "data": {
      "text/plain": [
       "array([[0, 0, 0],\n",
       "       [0, 1, 0],\n",
       "       [1, 0, 0],\n",
       "       [1, 1, 1]])"
      ]
     },
     "execution_count": 10,
     "metadata": {},
     "output_type": "execute_result"
    }
   ],
   "source": [
    "data = df.to_numpy()\n",
    "data"
   ]
  },
  {
   "cell_type": "code",
   "execution_count": 11,
   "id": "9b4a9e9f-9134-4ce3-9ec1-d878d385b6e3",
   "metadata": {},
   "outputs": [
    {
     "data": {
      "text/plain": [
       "(array([[0, 0],\n",
       "        [0, 1],\n",
       "        [1, 0],\n",
       "        [1, 1]]),\n",
       " array([0, 0, 0, 1]))"
      ]
     },
     "execution_count": 11,
     "metadata": {},
     "output_type": "execute_result"
    }
   ],
   "source": [
    "X_train = data[:, :-1]\n",
    "y_train = data[:, -1]\n",
    "X_train, y_train "
   ]
  },
  {
   "cell_type": "code",
   "execution_count": 12,
   "id": "c2e8fcf0-8fc3-4117-9822-7730ab662dfa",
   "metadata": {},
   "outputs": [
    {
     "data": {
      "text/plain": [
       "(4, 2)"
      ]
     },
     "execution_count": 12,
     "metadata": {},
     "output_type": "execute_result"
    }
   ],
   "source": [
    "n_samples, n_features = X_train.shape\n",
    "n_samples, n_features"
   ]
  },
  {
   "cell_type": "code",
   "execution_count": 13,
   "id": "80cc26f7-b2e8-4e13-835e-7ac21c8dd63c",
   "metadata": {},
   "outputs": [
    {
     "name": "stdout",
     "output_type": "stream",
     "text": [
      "[0.43869579 0.77288642 0.10600958]\n",
      "Converged at epoch 9 and weight [-0.46130421  0.27288642  0.20600958]\n"
     ]
    }
   ],
   "source": [
    "perceptron = Perceptron(input_size=n_features, learning_rate=0.1)\n",
    "# perceptron.weights = np.array([-0.5, 0.4, 1])\n",
    "print(perceptron.weights)\n",
    "perceptron.train(X_train, y_train, epochs=100)"
   ]
  },
  {
   "cell_type": "code",
   "execution_count": 14,
   "id": "567ed40f-a6f6-4485-a060-4d8f9bcde103",
   "metadata": {},
   "outputs": [
    {
     "name": "stdout",
     "output_type": "stream",
     "text": [
      "Prediction: 0\n"
     ]
    }
   ],
   "source": [
    "new_record = np.array([0,1])\n",
    "prediction = perceptron.predict(new_record)\n",
    "print(\"Prediction:\", prediction)"
   ]
  }
 ],
 "metadata": {
  "kernelspec": {
   "display_name": "Python 3 (ipykernel)",
   "language": "python",
   "name": "python3"
  },
  "language_info": {
   "codemirror_mode": {
    "name": "ipython",
    "version": 3
   },
   "file_extension": ".py",
   "mimetype": "text/x-python",
   "name": "python",
   "nbconvert_exporter": "python",
   "pygments_lexer": "ipython3",
   "version": "3.10.12"
  }
 },
 "nbformat": 4,
 "nbformat_minor": 5
}
