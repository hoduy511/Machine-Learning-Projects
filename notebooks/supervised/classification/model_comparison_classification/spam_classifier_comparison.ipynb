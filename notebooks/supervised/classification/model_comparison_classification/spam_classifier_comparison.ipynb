{
 "cells": [
  {
   "cell_type": "markdown",
   "metadata": {},
   "source": [
    "# Import libraries"
   ]
  },
  {
   "cell_type": "code",
   "execution_count": 1,
   "metadata": {},
   "outputs": [],
   "source": [
    "import pandas as pd\n",
    "from sklearn.model_selection import train_test_split\n",
    "from sklearn.feature_extraction.text import CountVectorizer, TfidfVectorizer\n",
    "from sklearn.metrics import classification_report\n",
    "from sklearn.neighbors import KNeighborsClassifier\n",
    "from sklearn.svm import SVC, LinearSVC\n",
    "from sklearn.gaussian_process import GaussianProcessClassifier\n",
    "from sklearn.tree import DecisionTreeClassifier\n",
    "from sklearn.ensemble import RandomForestClassifier, AdaBoostClassifier\n",
    "from sklearn.neural_network import MLPClassifier\n",
    "from sklearn.naive_bayes import MultinomialNB\n",
    "from sklearn.discriminant_analysis import QuadraticDiscriminantAnalysis\n",
    "from scipy.sparse import issparse\n",
    "import warnings\n",
    "\n",
    "warnings.filterwarnings(\"ignore\")"
   ]
  },
  {
   "cell_type": "markdown",
   "metadata": {},
   "source": [
    "# Read data and prepare the dataset"
   ]
  },
  {
   "cell_type": "code",
   "execution_count": 2,
   "metadata": {},
   "outputs": [],
   "source": [
    "# Read data from text file\n",
    "data_path = '../../../../data/classification/SMSSpamCollection'\n",
    "data = pd.read_csv(data_path, sep='\\t', header=None, names=['label', 'text'])\n",
    "\n",
    "# Convert labels 'ham' to 0 and 'spam' to 1\n",
    "data['label'] = data['label'].map({'ham': 0, 'spam': 1})"
   ]
  },
  {
   "cell_type": "markdown",
   "metadata": {},
   "source": [
    "# Split the dataset"
   ]
  },
  {
   "cell_type": "code",
   "execution_count": 3,
   "metadata": {},
   "outputs": [],
   "source": [
    "# Split data into training and testing sets with a ratio of (8|2)\n",
    "X_train, X_test, y_train, y_test = train_test_split(data['text'], data['label'], test_size=0.2, random_state=42)"
   ]
  },
  {
   "cell_type": "markdown",
   "metadata": {},
   "source": [
    "# Classification models"
   ]
  },
  {
   "cell_type": "code",
   "execution_count": 4,
   "metadata": {},
   "outputs": [],
   "source": [
    "# List of classification models\n",
    "models = [\n",
    "    (\"Nearest Neighbors\", KNeighborsClassifier()),\n",
    "    (\"Linear SVM\", LinearSVC()),\n",
    "    (\"RBF SVM\", SVC(gamma='scale')),\n",
    "    (\"Gaussian Process\", GaussianProcessClassifier()),\n",
    "    (\"Decision Tree\", DecisionTreeClassifier()),\n",
    "    (\"Random Forest\", RandomForestClassifier()),\n",
    "    (\"Neural Net\", MLPClassifier(max_iter=1000)),\n",
    "    (\"AdaBoost\", AdaBoostClassifier()),\n",
    "    (\"Naive Bayes\", MultinomialNB()),\n",
    "    (\"QDA\", QuadraticDiscriminantAnalysis())\n",
    "]"
   ]
  },
  {
   "cell_type": "markdown",
   "metadata": {},
   "source": [
    "# Train and evaluate each vectorizer and model"
   ]
  },
  {
   "cell_type": "markdown",
   "metadata": {},
   "source": [
    "**Function to train and evaluate models**"
   ]
  },
  {
   "cell_type": "code",
   "execution_count": 5,
   "metadata": {},
   "outputs": [],
   "source": [
    "def train_and_evaluate_models(vectorizer, models, X_train, X_test, y_train, y_test):\n",
    "    \"\"\"\n",
    "    Train and evaluate models using the provided vectorizer on the training and testing datasets.\n",
    "    \n",
    "    Parameters:\n",
    "    - vectorizer: The vectorizer to transform the data\n",
    "    - models: A list of models to train and evaluate\n",
    "    - X_train: The training dataset\n",
    "    - X_test: The testing dataset\n",
    "    - y_train: The labels corresponding to the training dataset\n",
    "    - y_test: The labels corresponding to the testing dataset\n",
    "    \n",
    "    Returns:\n",
    "    - DataFrame containing the scores of the models\n",
    "    \"\"\"\n",
    "    # Initialize a list to store the scores of the models\n",
    "    score_data = []\n",
    "\n",
    "    # Train and evaluate each model\n",
    "    for model_name, model in models:\n",
    "        # Vectorize the data\n",
    "        X_train_vectorized = vectorizer.fit_transform(X_train)\n",
    "        X_test_vectorized = vectorizer.transform(X_test)\n",
    "\n",
    "        # Convert sparse matrix to dense if necessary\n",
    "        if issparse(X_train_vectorized):\n",
    "            X_train_vectorized = X_train_vectorized.toarray()\n",
    "            X_test_vectorized = X_test_vectorized.toarray()\n",
    "\n",
    "        # Train the model\n",
    "        model.fit(X_train_vectorized, y_train)\n",
    "\n",
    "        # Evaluate the model on the test set and save the score\n",
    "        score = model.score(X_test_vectorized, y_test)\n",
    "        score_data.append({\n",
    "            'Model': model_name,\n",
    "            'Score': score\n",
    "        })\n",
    "\n",
    "    # Create a DataFrame from the score data and return it\n",
    "    score_df = pd.DataFrame(score_data)\n",
    "    return score_df"
   ]
  },
  {
   "cell_type": "markdown",
   "metadata": {},
   "source": [
    "## CountVectorizer"
   ]
  },
  {
   "cell_type": "code",
   "execution_count": 6,
   "metadata": {},
   "outputs": [
    {
     "name": "stdout",
     "output_type": "stream",
     "text": [
      "               Model     Score\n",
      "0  Nearest Neighbors  0.925561\n",
      "1         Linear SVM  0.990135\n",
      "2            RBF SVM  0.986547\n",
      "3   Gaussian Process  0.947085\n",
      "4      Decision Tree  0.973991\n",
      "5      Random Forest  0.978475\n",
      "6         Neural Net  0.990135\n",
      "7           AdaBoost  0.971300\n",
      "8        Naive Bayes  0.991928\n",
      "9                QDA  0.781166\n"
     ]
    }
   ],
   "source": [
    "result_count_df = train_and_evaluate_models(CountVectorizer(), models, X_train, X_test, y_train, y_test)\n",
    "print(result_count_df)"
   ]
  },
  {
   "cell_type": "markdown",
   "metadata": {},
   "source": [
    "## TfidfVectorizer"
   ]
  },
  {
   "cell_type": "code",
   "execution_count": 7,
   "metadata": {},
   "outputs": [
    {
     "name": "stdout",
     "output_type": "stream",
     "text": [
      "               Model     Score\n",
      "0  Nearest Neighbors  0.919283\n",
      "1         Linear SVM  0.991928\n",
      "2            RBF SVM  0.989238\n",
      "3   Gaussian Process  0.947982\n",
      "4      Decision Tree  0.970404\n",
      "5      Random Forest  0.982960\n",
      "6         Neural Net  0.991031\n",
      "7           AdaBoost  0.978475\n",
      "8        Naive Bayes  0.966816\n",
      "9                QDA  0.597309\n"
     ]
    }
   ],
   "source": [
    "result_tfidf_df = train_and_evaluate_models(TfidfVectorizer(), models, X_train, X_test, y_train, y_test)\n",
    "print(result_tfidf_df)"
   ]
  },
  {
   "cell_type": "markdown",
   "metadata": {},
   "source": [
    "# Result observations"
   ]
  },
  {
   "cell_type": "markdown",
   "metadata": {},
   "source": [
    "- **Most models achieved high and stable performance (except QDA) using both CountVectorizer (Naive Bayes highest) and TF-IDF (Linear SVM highest)**\n",
    "- **QDA showed clear dependency on CountVectorizer and performed less effectively with TF-IDF**\n",
    "- **Choosing the Linear SVM model**:\n",
    "    - **High performance**: Provides accurate spam detection while minimizing errors.\n",
    "    - **Stability**: Maintains good effectiveness with both text representation methods, less dependent on data processing.\n",
    "    - **Computational efficiency**: Simple and easy to implement, saving computational resources.\n",
    "    - **Computational efficiency**: Easy to understand how it works, supporting adjustments and improvements to the model. "
   ]
  }
 ],
 "metadata": {
  "kernelspec": {
   "display_name": "Python 3 (ipykernel)",
   "language": "python",
   "name": "python3"
  },
  "language_info": {
   "codemirror_mode": {
    "name": "ipython",
    "version": 3
   },
   "file_extension": ".py",
   "mimetype": "text/x-python",
   "name": "python",
   "nbconvert_exporter": "python",
   "pygments_lexer": "ipython3",
   "version": "3.10.12"
  }
 },
 "nbformat": 4,
 "nbformat_minor": 4
}
