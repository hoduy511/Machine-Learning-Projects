{
 "cells": [
  {
   "cell_type": "code",
   "execution_count": 1,
   "id": "13d62b0d",
   "metadata": {},
   "outputs": [
    {
     "name": "stdout",
     "output_type": "stream",
     "text": [
      "Coefficients: [ 1.37245527 -0.13972856  0.43861814]\n",
      "Intercept (Beta_0): 1.3724552745219012\n",
      "Coefficient of Feature 1 (Beta_1): -0.13972856261567002\n",
      "Coefficient of Feature 2 (Beta_2): 0.4386181369524983\n",
      "Prediction for features (1.50, 4): 2.9173349784083893\n"
     ]
    }
   ],
   "source": [
    "import numpy as np\n",
    "\n",
    "# Define the features (X) and target variable (y)\n",
    "features = np.array([[1, 0], [2, 3.50], [2.50, 4], [3.50, 4], [3, 1], [5, 1.50]])\n",
    "target = np.array([1.50, 2, 3.50, 2.50, 1, 1.50])\n",
    "\n",
    "# Add an intercept term to the features\n",
    "features_with_intercept = np.column_stack((np.ones(len(features)), features))\n",
    "\n",
    "# Calculate the coefficients (beta)\n",
    "coefficients = np.linalg.inv(features_with_intercept.T.dot(features_with_intercept)).dot(features_with_intercept.T).dot(target)\n",
    "\n",
    "# Print the coefficients\n",
    "print(\"Coefficients:\", coefficients)\n",
    "print(\"Intercept (Beta_0):\", coefficients[0])  # Intercept\n",
    "print(\"Coefficient of Feature 1 (Beta_1):\", coefficients[1])  # Coefficient for the first feature\n",
    "print(\"Coefficient of Feature 2 (Beta_2):\", coefficients[2])  # Coefficient for the second feature\n",
    "\n",
    "# Define a function to make predictions\n",
    "def predict(features, coefficients):\n",
    "    features_with_intercept = np.insert(features, 0, 1)  \n",
    "    return np.dot(features_with_intercept, coefficients)\n",
    "\n",
    "# Example prediction\n",
    "new_feature = np.array([1.50, 4])\n",
    "prediction = predict(new_feature, coefficients)\n",
    "print(\"Prediction for features (1.50, 4):\", prediction)\n"
   ]
  }
 ],
 "metadata": {
  "kernelspec": {
   "display_name": "Python 3 (ipykernel)",
   "language": "python",
   "name": "python3"
  },
  "language_info": {
   "codemirror_mode": {
    "name": "ipython",
    "version": 3
   },
   "file_extension": ".py",
   "mimetype": "text/x-python",
   "name": "python",
   "nbconvert_exporter": "python",
   "pygments_lexer": "ipython3",
   "version": "3.10.12"
  },
  "toc": {
   "base_numbering": 1,
   "nav_menu": {},
   "number_sections": true,
   "sideBar": true,
   "skip_h1_title": false,
   "title_cell": "Table of Contents",
   "title_sidebar": "Contents",
   "toc_cell": false,
   "toc_position": {},
   "toc_section_display": true,
   "toc_window_display": false
  }
 },
 "nbformat": 4,
 "nbformat_minor": 5
}
