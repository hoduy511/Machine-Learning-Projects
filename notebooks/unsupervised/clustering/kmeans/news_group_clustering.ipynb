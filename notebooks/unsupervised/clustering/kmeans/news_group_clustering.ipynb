{
 "cells": [
  {
   "cell_type": "markdown",
   "id": "a5410a70-095d-4662-adda-105317a63bb1",
   "metadata": {},
   "source": [
    "# Import libaries"
   ]
  },
  {
   "cell_type": "code",
   "execution_count": 1,
   "id": "7ce4bdbc-7b83-4426-a077-41a696b2a156",
   "metadata": {},
   "outputs": [],
   "source": [
    "import pandas as pd\n",
    "import matplotlib.pyplot as plt\n",
    "import numpy as np\n",
    "\n",
    "from sklearn import metrics\n",
    "from sklearn.cluster import KMeans\n",
    "from sklearn.datasets import fetch_20newsgroups\n",
    "from sklearn.feature_extraction.text import TfidfVectorizer, TfidfTransformer, HashingVectorizer\n",
    "from sklearn.decomposition import TruncatedSVD\n",
    "from sklearn.pipeline import make_pipeline\n",
    "from sklearn.preprocessing import Normalizer\n",
    "\n",
    "\n",
    "from collections import defaultdict\n",
    "from time import time"
   ]
  },
  {
   "cell_type": "markdown",
   "id": "0b6901b9-2c6c-4327-89e1-f3028248e968",
   "metadata": {},
   "source": [
    "# Load Data"
   ]
  },
  {
   "cell_type": "code",
   "execution_count": 2,
   "id": "8c5226db-cae1-4386-9377-6198bf18a73b",
   "metadata": {},
   "outputs": [
    {
     "name": "stdout",
     "output_type": "stream",
     "text": [
      "2894 documents - 3 categories\n"
     ]
    }
   ],
   "source": [
    "# Load 3 categories: \"sci.space\", \"soc.religion.christian\", \"talk.politics.guns\"\n",
    "categories = [\n",
    "    \"sci.space\",\n",
    "    \"soc.religion.christian\",\n",
    "    \"talk.politics.guns\",\n",
    "]\n",
    "\n",
    "dataset = fetch_20newsgroups(\n",
    "    remove=(\"headers\", \"footers\", \"quotes\"),\n",
    "    subset=\"all\",\n",
    "    categories=categories,\n",
    "    shuffle=True,\n",
    "    random_state=42,\n",
    ")\n",
    "\n",
    "# Get the labels of each sample\n",
    "labels = dataset.target\n",
    "\n",
    "# Count the number of samples in each category and the number of categories\n",
    "unique_labels, category_sizes = np.unique(labels, return_counts=True)\n",
    "true_k = unique_labels.shape[0]\n",
    "\n",
    "# Print the number of documents and the number of categories\n",
    "print(f\"{len(dataset.data)} documents - {true_k} categories\")"
   ]
  },
  {
   "cell_type": "markdown",
   "id": "0d423ef2-a0c1-4a48-b704-d3d887f81fc0",
   "metadata": {},
   "source": [
    "# Fit and Evaluate the K-means Model\n"
   ]
  },
  {
   "cell_type": "code",
   "execution_count": 3,
   "id": "1cf49e4b-0846-4abf-a840-8908c7401fc3",
   "metadata": {},
   "outputs": [],
   "source": [
    "# Initialize lists to store evaluation results\n",
    "evaluations = []\n",
    "evaluations_std = []\n",
    "\n",
    "# Function to train and evaluate the K-means model\n",
    "def fit_and_evaluate(km, X, name=None, n_runs=5):\n",
    "    \n",
    "    # Get the name of the model if not specified\n",
    "    name = km.__class__.__name__ if name is None else name\n",
    "\n",
    "    # List to store training times\n",
    "    train_times = []\n",
    "    \n",
    "    # Compute evaluation scores\n",
    "    scores = defaultdict(list)\n",
    "    for seed in range(n_runs):\n",
    "        km.set_params(random_state=seed)\n",
    "        t0 = time()  # Start measuring time\n",
    "        km.fit(X)\n",
    "        train_times.append(time() - t0)\n",
    "        \n",
    "        # Evaluate the model\n",
    "        scores[\"Homogeneity\"].append(metrics.homogeneity_score(labels, km.labels_))\n",
    "        scores[\"Completeness\"].append(metrics.completeness_score(labels, km.labels_))\n",
    "        scores[\"V-measure\"].append(metrics.v_measure_score(labels, km.labels_))\n",
    "        scores[\"Adjusted Rand-Index\"].append(\n",
    "            metrics.adjusted_rand_score(labels, km.labels_)\n",
    "        )\n",
    "        scores[\"Silhouette Coefficient\"].append(\n",
    "            metrics.silhouette_score(X, km.labels_, sample_size=2000)\n",
    "        )\n",
    "    train_times = np.asarray(train_times)\n",
    "\n",
    "    # Print the average training time and standard deviation\n",
    "    print(f\"Clustering executed in {train_times.mean():.2f} ± {train_times.std():.2f} s \")\n",
    "    evaluation = {\n",
    "        \"estimator\": name,\n",
    "        \"train_time\": train_times.mean(),\n",
    "    }\n",
    "    evaluation_std = {\n",
    "        \"estimator\": name,\n",
    "        \"train_time\": train_times.std(),\n",
    "    }\n",
    "    \n",
    "    # Print evaluation scores and store them\n",
    "    for score_name, score_values in scores.items():\n",
    "        mean_score, std_score = np.mean(score_values), np.std(score_values)\n",
    "        print(f\"{score_name}: {mean_score:.3f} ± {std_score:.3f}\")\n",
    "        evaluation[score_name] = mean_score\n",
    "        evaluation_std[score_name] = std_score\n",
    "        \n",
    "    # Add evaluation results to the lists\n",
    "    evaluations.append(evaluation)\n",
    "    evaluations_std.append(evaluation_std)"
   ]
  },
  {
   "cell_type": "markdown",
   "id": "21d86904-4ce1-43d5-909f-fac3f7751886",
   "metadata": {},
   "source": [
    "## TfidfVectorizer"
   ]
  },
  {
   "cell_type": "markdown",
   "id": "4983428d-f880-4f8a-a8e8-1ce7db269372",
   "metadata": {},
   "source": [
    "###  Feature Extraction with TfidfVectorizer"
   ]
  },
  {
   "cell_type": "code",
   "execution_count": 4,
   "id": "a1717973-1b67-498d-83c6-9a5e4a436fec",
   "metadata": {},
   "outputs": [
    {
     "name": "stdout",
     "output_type": "stream",
     "text": [
      "Vectorization executed in 0.285 s\n",
      "n_samples: 2894, n_features: 7429\n"
     ]
    }
   ],
   "source": [
    "# Feature extraction using TfidfVectorizer\n",
    "vectorizer = TfidfVectorizer(\n",
    "    max_df=0.5,\n",
    "    min_df=5,\n",
    "    stop_words=\"english\",\n",
    ")\n",
    "\n",
    "t0 = time()\n",
    "X_tfidf = vectorizer.fit_transform(dataset.data)\n",
    "\n",
    "print(f\"Vectorization executed in {time() - t0:.3f} s\")\n",
    "print(f\"n_samples: {X_tfidf.shape[0]}, n_features: {X_tfidf.shape[1]}\")"
   ]
  },
  {
   "cell_type": "code",
   "execution_count": 5,
   "id": "2324eb76-8762-4f89-88d6-4a3cdcbe731a",
   "metadata": {},
   "outputs": [
    {
     "data": {
      "text/plain": [
       "array(['00', '000', '00000', ..., 'zero', 'zip', 'zone'], dtype=object)"
      ]
     },
     "execution_count": 5,
     "metadata": {},
     "output_type": "execute_result"
    }
   ],
   "source": [
    "vectorizer.get_feature_names_out()"
   ]
  },
  {
   "cell_type": "code",
   "execution_count": 6,
   "id": "73190eaa-08e8-4b48-b8ec-b06d608a736a",
   "metadata": {},
   "outputs": [
    {
     "name": "stdout",
     "output_type": "stream",
     "text": [
      "Sparsity of the TF-IDF matrix: 0.008\n"
     ]
    }
   ],
   "source": [
    "print(f\"Sparsity of the TF-IDF matrix: {X_tfidf.nnz / np.prod(X_tfidf.shape):.3f}\")"
   ]
  },
  {
   "cell_type": "code",
   "execution_count": 7,
   "id": "16d729aa-0862-4b24-b05d-ed5e221e23e1",
   "metadata": {},
   "outputs": [
    {
     "name": "stdout",
     "output_type": "stream",
     "text": [
      "[[0. 0. 0. ... 0. 0. 0.]\n",
      " [0. 0. 0. ... 0. 0. 0.]\n",
      " [0. 0. 0. ... 0. 0. 0.]\n",
      " ...\n",
      " [0. 0. 0. ... 0. 0. 0.]\n",
      " [0. 0. 0. ... 0. 0. 0.]\n",
      " [0. 0. 0. ... 0. 0. 0.]]\n"
     ]
    }
   ],
   "source": [
    "print(X_tfidf.toarray())"
   ]
  },
  {
   "cell_type": "markdown",
   "id": "2725b4a4-9f94-44b9-875b-0e8f1cadc310",
   "metadata": {},
   "source": [
    "### Cluster Sparse Data using K-means"
   ]
  },
  {
   "cell_type": "code",
   "execution_count": 8,
   "id": "1a633a9d-85ef-4c5e-8d6b-2937e0e335e9",
   "metadata": {},
   "outputs": [
    {
     "name": "stdout",
     "output_type": "stream",
     "text": [
      "Clustering executed in 0.07 ± 0.02 s \n",
      "Homogeneity: 0.389 ± 0.033\n",
      "Completeness: 0.461 ± 0.025\n",
      "V-measure: 0.422 ± 0.030\n",
      "Adjusted Rand-Index: 0.286 ± 0.052\n",
      "Silhouette Coefficient: 0.009 ± 0.000\n"
     ]
    }
   ],
   "source": [
    "kmeans = KMeans(\n",
    "    n_clusters=true_k,\n",
    "    max_iter=100,\n",
    "    n_init=5,\n",
    ")\n",
    "\n",
    "fit_and_evaluate(kmeans, X_tfidf, name=\"KMeans\\non tf-idf vectors\")"
   ]
  },
  {
   "cell_type": "markdown",
   "id": "3bb8538e-a5be-4fca-ae07-1e5b6fbef4b0",
   "metadata": {},
   "source": [
    "### Dimensionality Reduction using LSA"
   ]
  },
  {
   "cell_type": "code",
   "execution_count": 9,
   "id": "d7700dc3-7864-4ac6-b0e1-314d3e3d5bb3",
   "metadata": {},
   "outputs": [
    {
     "name": "stdout",
     "output_type": "stream",
     "text": [
      "LSA executed in 0.694 s\n",
      "Explained variance of the SVD step: 18.6%\n"
     ]
    }
   ],
   "source": [
    "# Perform dimensionality reduction using LSA\n",
    "lsa = make_pipeline(TruncatedSVD(n_components=100), Normalizer(copy=False))\n",
    "t0 = time()\n",
    "X_lsa = lsa.fit_transform(X_tfidf)\n",
    "explained_variance = lsa[0].explained_variance_ratio_.sum()\n",
    "\n",
    "print(f\"LSA executed in {time() - t0:.3f} s\")\n",
    "print(f\"Explained variance of the SVD step: {explained_variance * 100:.1f}%\")"
   ]
  },
  {
   "cell_type": "code",
   "execution_count": 10,
   "id": "c669e7a5-7f2d-44d4-b96f-7c254046e7dd",
   "metadata": {},
   "outputs": [
    {
     "name": "stdout",
     "output_type": "stream",
     "text": [
      "Clustering executed in 0.05 ± 0.00 s \n",
      "Homogeneity: 0.439 ± 0.079\n",
      "Completeness: 0.524 ± 0.034\n",
      "V-measure: 0.476 ± 0.061\n",
      "Adjusted Rand-Index: 0.362 ± 0.088\n",
      "Silhouette Coefficient: 0.031 ± 0.001\n"
     ]
    }
   ],
   "source": [
    "kmeans = KMeans(\n",
    "    n_clusters=true_k,\n",
    "    max_iter=100,\n",
    "    n_init=1,\n",
    ")\n",
    "\n",
    "fit_and_evaluate(kmeans, X_lsa, name=\"KMeans\\nwith LSA on tf-idf vectors\")"
   ]
  },
  {
   "cell_type": "markdown",
   "id": "a057a300-27ef-41ef-bb21-c38c974ee22c",
   "metadata": {},
   "source": [
    "### Top Terms in Each Cluster"
   ]
  },
  {
   "cell_type": "code",
   "execution_count": 11,
   "id": "96f9635c-4f48-4378-b7db-c410df9a9d7e",
   "metadata": {},
   "outputs": [
    {
     "name": "stdout",
     "output_type": "stream",
     "text": [
      "Cluster 0: space orbit nasa launch shuttle moon earth mission like satellite \n",
      "Cluster 1: gun people don like just know think fbi right guns \n",
      "Cluster 2: god jesus church christian christ christians people bible believe faith \n"
     ]
    }
   ],
   "source": [
    "# Top terms in each cluster\n",
    "original_space_centroids = lsa[0].inverse_transform(kmeans.cluster_centers_)\n",
    "order_centroids = original_space_centroids.argsort()[:, ::-1]\n",
    "terms = vectorizer.get_feature_names_out()\n",
    "\n",
    "for i in range(true_k):\n",
    "    print(f\"Cluster {i}: \", end=\"\")\n",
    "    for ind in order_centroids[i, :10]:\n",
    "        print(f\"{terms[ind]} \", end=\"\")\n",
    "    print()"
   ]
  },
  {
   "cell_type": "markdown",
   "id": "119c7c5d-7925-4481-8306-a1cf30f528c0",
   "metadata": {},
   "source": [
    "## HashingVectorizer"
   ]
  },
  {
   "cell_type": "code",
   "execution_count": 12,
   "id": "4804c7f8-a397-432f-bb41-3567be2a32bd",
   "metadata": {},
   "outputs": [
    {
     "name": "stdout",
     "output_type": "stream",
     "text": [
      "Vectorization executed in 2.281 s\n"
     ]
    }
   ],
   "source": [
    "# HashingVectorizer\n",
    "lsa_vectorizer = make_pipeline(\n",
    "    HashingVectorizer(stop_words=\"english\", n_features=50_000),\n",
    "    TfidfTransformer(),\n",
    "    TruncatedSVD(n_components=100, random_state=0),\n",
    "    Normalizer(copy=False),\n",
    ")\n",
    "\n",
    "t0 = time()\n",
    "X_hashed_lsa = lsa_vectorizer.fit_transform(dataset.data)\n",
    "print(f\"Vectorization executed in {time() - t0:.3f} s\")"
   ]
  },
  {
   "cell_type": "code",
   "execution_count": 13,
   "id": "5b6c61b3-1c80-4cb1-851f-7952b9927566",
   "metadata": {},
   "outputs": [
    {
     "name": "stdout",
     "output_type": "stream",
     "text": [
      "Clustering executed in 0.02 ± 0.01 s \n",
      "Homogeneity: 0.487 ± 0.112\n",
      "Completeness: 0.550 ± 0.054\n",
      "V-measure: 0.514 ± 0.089\n",
      "Adjusted Rand-Index: 0.465 ± 0.160\n",
      "Silhouette Coefficient: 0.032 ± 0.002\n"
     ]
    }
   ],
   "source": [
    "fit_and_evaluate(kmeans, X_hashed_lsa, name=\"KMeans\\nwith LSA on hashed vectors\")"
   ]
  },
  {
   "cell_type": "markdown",
   "id": "87a3a585-163d-4dd7-81c9-aadf4302ceaf",
   "metadata": {},
   "source": [
    "# Evaluate Clustering"
   ]
  },
  {
   "cell_type": "code",
   "execution_count": 14,
   "id": "0ef37992-8674-4d53-8518-32dd2eabc028",
   "metadata": {},
   "outputs": [
    {
     "data": {
      "image/png": "[encoded data removed]",
      "text/plain": [
       "<Figure size 1600x600 with 2 Axes>"
      ]
     },
     "metadata": {},
     "output_type": "display_data"
    }
   ],
   "source": [
    "# Evaluate clustering\n",
    "fig, (ax0, ax1) = plt.subplots(ncols=2, figsize=(16, 6), sharey=True)\n",
    "\n",
    "df = pd.DataFrame(evaluations[::-1]).set_index(\"estimator\")\n",
    "df_std = pd.DataFrame(evaluations_std[::-1]).set_index(\"estimator\")\n",
    "\n",
    "df.drop(\n",
    "    [\"train_time\"],\n",
    "    axis=\"columns\",\n",
    ").plot.barh(ax=ax0, xerr=df_std)\n",
    "ax0.set_xlabel(\"Clustering scores\")\n",
    "ax0.set_ylabel(\"\")\n",
    "\n",
    "df[\"train_time\"].plot.barh(ax=ax1, xerr=df_std[\"train_time\"])\n",
    "ax1.set_xlabel(\"Clustering time (s)\")\n",
    "plt.tight_layout()\n"
   ]
  }
 ],
 "metadata": {
  "kernelspec": {
   "display_name": "Python 3 (ipykernel)",
   "language": "python",
   "name": "python3"
  },
  "language_info": {
   "codemirror_mode": {
    "name": "ipython",
    "version": 3
   },
   "file_extension": ".py",
   "mimetype": "text/x-python",
   "name": "python",
   "nbconvert_exporter": "python",
   "pygments_lexer": "ipython3",
   "version": "3.10.12"
  }
 },
 "nbformat": 4,
 "nbformat_minor": 5
}
